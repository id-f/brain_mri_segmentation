{
  "nbformat": 4,
  "nbformat_minor": 0,
  "metadata": {
    "colab": {
      "name": "TRPV2.ipynb",
      "provenance": [],
      "toc_visible": true,
      "authorship_tag": "ABX9TyPNaoFGrNEMyZIBG96gpKjG",
      "include_colab_link": true
    },
    "kernelspec": {
      "name": "python3",
      "display_name": "Python 3"
    },
    "language_info": {
      "name": "python"
    }
  },
  "cells": [
    {
      "cell_type": "markdown",
      "metadata": {
        "id": "view-in-github",
        "colab_type": "text"
      },
      "source": [
        "<a href=\"https://colab.research.google.com/github/id-f/brain_mri_segmentation/blob/main/TRPV2.ipynb\" target=\"_parent\"><img src=\"https://colab.research.google.com/assets/colab-badge.svg\" alt=\"Open In Colab\"/></a>"
      ]
    },
    {
      "cell_type": "markdown",
      "source": [
        "# はじめに実行するセル"
      ],
      "metadata": {
        "id": "YhDbgW1vKEhp"
      }
    },
    {
      "cell_type": "code",
      "execution_count": null,
      "metadata": {
        "id": "AD7Cd1ZU1Kj5",
        "outputId": "27e81a91-2478-4ab7-aadb-4e4da5572ef8",
        "colab": {
          "base_uri": "https://localhost:8080/"
        }
      },
      "outputs": [
        {
          "output_type": "stream",
          "name": "stdout",
          "text": [
            "Drive already mounted at /content/drive; to attempt to forcibly remount, call drive.mount(\"/content/drive\", force_remount=True).\n",
            "6匹中4匹欠損.xlsx  IDdf.xlsx  すべてのデータ.png  TRPV2.xlsx\n",
            "6匹中5匹欠損.xlsx  img.png    TRPV2.ipynb\n"
          ]
        }
      ],
      "source": [
        "import numpy as np\n",
        "import pandas as pd\n",
        "import matplotlib.pyplot as plt\n",
        "%matplotlib inline\n",
        "\n",
        "from google.colab import drive\n",
        "drive.mount('/content/drive')\n",
        "import os\n",
        "os.chdir('/content/drive/My Drive/Colab Notebooks/TRPV2Heart/')\n",
        "!ls\n",
        "\n",
        "f = \"/content/drive/My Drive/Colab Notebooks/TRPV2Heart/TRPV2.xlsx\""
      ]
    },
    {
      "cell_type": "markdown",
      "source": [
        "# 解析パターン１"
      ],
      "metadata": {
        "id": "xJEmpvYMHBjP"
      }
    },
    {
      "cell_type": "markdown",
      "source": [
        "## まずは読み込みと基本操作"
      ],
      "metadata": {
        "id": "xhFzT8dGcorU"
      }
    },
    {
      "cell_type": "code",
      "source": [
        "import pandas as pd\n",
        "import numpy as np\n",
        "def basedf():\n",
        "  df = pd.read_excel(f)\n",
        "  df = df.T\n",
        "  df.columns = df.loc['Accession',:]\n",
        "  df = df.drop(index= 'Accession')\n",
        "  #Normalizeのみ選択。\n",
        "  l = ['Abundances (Normalized): F1: Sample, WT, WT1',\n",
        "    'Abundances (Normalized): F2: Sample, WT, WT2',\n",
        "    'Abundances (Normalized): F3: Sample, WT, WT3',\n",
        "    'Abundances (Normalized): F4: Sample, KO, KO1',\n",
        "    'Abundances (Normalized): F5: Sample, KO, KO2',\n",
        "    'Abundances (Normalized): F6: Sample, KO, KO3']\n",
        "  #NormalizeのみのDfを作成し、クラスを追加\n",
        "  df = df.loc[l, :].copy()\n",
        "  df.loc[:,\"class\"] = [0,0,0,1,1,1]\n",
        "  #Classを先頭列に\n",
        "  yo = df.loc[:,\"class\"]  \n",
        "  df.drop(\"class\", axis=1, inplace = True)\n",
        "  df.insert(0,\"class\",yo)\n",
        "\n",
        "  #ネズミ名をわかりやすくする。列名変更\n",
        "  nl = [\"F1\",\"F2\",\"F3\",\"F4\",\"F5\",\"F6\"]\n",
        "  df.index = nl\n",
        "     \n",
        "  return df"
      ],
      "metadata": {
        "id": "6tymNpqa7a79"
      },
      "execution_count": null,
      "outputs": []
    },
    {
      "cell_type": "code",
      "source": [
        "df = basedf()"
      ],
      "metadata": {
        "colab": {
          "base_uri": "https://localhost:8080/",
          "height": 238
        },
        "id": "9WbDzT6d8MDk",
        "outputId": "932db791-d957-4e69-c730-a1bd5a23f752"
      },
      "execution_count": null,
      "outputs": [
        {
          "output_type": "execute_result",
          "data": {
            "text/html": [
              "\n",
              "  <div id=\"df-3de21708-6669-4c9f-b718-f4f6cb6009ef\">\n",
              "    <div class=\"colab-df-container\">\n",
              "      <div>\n",
              "<style scoped>\n",
              "    .dataframe tbody tr th:only-of-type {\n",
              "        vertical-align: middle;\n",
              "    }\n",
              "\n",
              "    .dataframe tbody tr th {\n",
              "        vertical-align: top;\n",
              "    }\n",
              "\n",
              "    .dataframe thead th {\n",
              "        text-align: right;\n",
              "    }\n",
              "</style>\n",
              "<table border=\"1\" class=\"dataframe\">\n",
              "  <thead>\n",
              "    <tr style=\"text-align: right;\">\n",
              "      <th>Accession</th>\n",
              "      <th>B2RWG1</th>\n",
              "      <th>Q3UV17</th>\n",
              "      <th>O08692</th>\n",
              "      <th>Q9Z284</th>\n",
              "    </tr>\n",
              "  </thead>\n",
              "  <tbody>\n",
              "    <tr>\n",
              "      <th>F1</th>\n",
              "      <td>8.3871e+06</td>\n",
              "      <td>14274.6</td>\n",
              "      <td>4.75204e+06</td>\n",
              "      <td>2.04913e+06</td>\n",
              "    </tr>\n",
              "    <tr>\n",
              "      <th>F2</th>\n",
              "      <td>8.26407e+06</td>\n",
              "      <td>NaN</td>\n",
              "      <td>6.55603e+06</td>\n",
              "      <td>NaN</td>\n",
              "    </tr>\n",
              "    <tr>\n",
              "      <th>F3</th>\n",
              "      <td>1.28314e+07</td>\n",
              "      <td>3.39843e+07</td>\n",
              "      <td>3.19329e+06</td>\n",
              "      <td>NaN</td>\n",
              "    </tr>\n",
              "    <tr>\n",
              "      <th>F4</th>\n",
              "      <td>NaN</td>\n",
              "      <td>3.80761e+07</td>\n",
              "      <td>NaN</td>\n",
              "      <td>NaN</td>\n",
              "    </tr>\n",
              "    <tr>\n",
              "      <th>F5</th>\n",
              "      <td>NaN</td>\n",
              "      <td>1.40061e+06</td>\n",
              "      <td>NaN</td>\n",
              "      <td>NaN</td>\n",
              "    </tr>\n",
              "    <tr>\n",
              "      <th>F6</th>\n",
              "      <td>NaN</td>\n",
              "      <td>5.62708e+07</td>\n",
              "      <td>NaN</td>\n",
              "      <td>NaN</td>\n",
              "    </tr>\n",
              "  </tbody>\n",
              "</table>\n",
              "</div>\n",
              "      <button class=\"colab-df-convert\" onclick=\"convertToInteractive('df-3de21708-6669-4c9f-b718-f4f6cb6009ef')\"\n",
              "              title=\"Convert this dataframe to an interactive table.\"\n",
              "              style=\"display:none;\">\n",
              "        \n",
              "  <svg xmlns=\"http://www.w3.org/2000/svg\" height=\"24px\"viewBox=\"0 0 24 24\"\n",
              "       width=\"24px\">\n",
              "    <path d=\"M0 0h24v24H0V0z\" fill=\"none\"/>\n",
              "    <path d=\"M18.56 5.44l.94 2.06.94-2.06 2.06-.94-2.06-.94-.94-2.06-.94 2.06-2.06.94zm-11 1L8.5 8.5l.94-2.06 2.06-.94-2.06-.94L8.5 2.5l-.94 2.06-2.06.94zm10 10l.94 2.06.94-2.06 2.06-.94-2.06-.94-.94-2.06-.94 2.06-2.06.94z\"/><path d=\"M17.41 7.96l-1.37-1.37c-.4-.4-.92-.59-1.43-.59-.52 0-1.04.2-1.43.59L10.3 9.45l-7.72 7.72c-.78.78-.78 2.05 0 2.83L4 21.41c.39.39.9.59 1.41.59.51 0 1.02-.2 1.41-.59l7.78-7.78 2.81-2.81c.8-.78.8-2.07 0-2.86zM5.41 20L4 18.59l7.72-7.72 1.47 1.35L5.41 20z\"/>\n",
              "  </svg>\n",
              "      </button>\n",
              "      \n",
              "  <style>\n",
              "    .colab-df-container {\n",
              "      display:flex;\n",
              "      flex-wrap:wrap;\n",
              "      gap: 12px;\n",
              "    }\n",
              "\n",
              "    .colab-df-convert {\n",
              "      background-color: #E8F0FE;\n",
              "      border: none;\n",
              "      border-radius: 50%;\n",
              "      cursor: pointer;\n",
              "      display: none;\n",
              "      fill: #1967D2;\n",
              "      height: 32px;\n",
              "      padding: 0 0 0 0;\n",
              "      width: 32px;\n",
              "    }\n",
              "\n",
              "    .colab-df-convert:hover {\n",
              "      background-color: #E2EBFA;\n",
              "      box-shadow: 0px 1px 2px rgba(60, 64, 67, 0.3), 0px 1px 3px 1px rgba(60, 64, 67, 0.15);\n",
              "      fill: #174EA6;\n",
              "    }\n",
              "\n",
              "    [theme=dark] .colab-df-convert {\n",
              "      background-color: #3B4455;\n",
              "      fill: #D2E3FC;\n",
              "    }\n",
              "\n",
              "    [theme=dark] .colab-df-convert:hover {\n",
              "      background-color: #434B5C;\n",
              "      box-shadow: 0px 1px 3px 1px rgba(0, 0, 0, 0.15);\n",
              "      filter: drop-shadow(0px 1px 2px rgba(0, 0, 0, 0.3));\n",
              "      fill: #FFFFFF;\n",
              "    }\n",
              "  </style>\n",
              "\n",
              "      <script>\n",
              "        const buttonEl =\n",
              "          document.querySelector('#df-3de21708-6669-4c9f-b718-f4f6cb6009ef button.colab-df-convert');\n",
              "        buttonEl.style.display =\n",
              "          google.colab.kernel.accessAllowed ? 'block' : 'none';\n",
              "\n",
              "        async function convertToInteractive(key) {\n",
              "          const element = document.querySelector('#df-3de21708-6669-4c9f-b718-f4f6cb6009ef');\n",
              "          const dataTable =\n",
              "            await google.colab.kernel.invokeFunction('convertToInteractive',\n",
              "                                                     [key], {});\n",
              "          if (!dataTable) return;\n",
              "\n",
              "          const docLinkHtml = 'Like what you see? Visit the ' +\n",
              "            '<a target=\"_blank\" href=https://colab.research.google.com/notebooks/data_table.ipynb>data table notebook</a>'\n",
              "            + ' to learn more about interactive tables.';\n",
              "          element.innerHTML = '';\n",
              "          dataTable['output_type'] = 'display_data';\n",
              "          await google.colab.output.renderOutput(dataTable, element);\n",
              "          const docLink = document.createElement('div');\n",
              "          docLink.innerHTML = docLinkHtml;\n",
              "          element.appendChild(docLink);\n",
              "        }\n",
              "      </script>\n",
              "    </div>\n",
              "  </div>\n",
              "  "
            ],
            "text/plain": [
              "Accession       B2RWG1       Q3UV17       O08692       Q9Z284\n",
              "F1          8.3871e+06      14274.6  4.75204e+06  2.04913e+06\n",
              "F2         8.26407e+06          NaN  6.55603e+06          NaN\n",
              "F3         1.28314e+07  3.39843e+07  3.19329e+06          NaN\n",
              "F4                 NaN  3.80761e+07          NaN          NaN\n",
              "F5                 NaN  1.40061e+06          NaN          NaN\n",
              "F6                 NaN  5.62708e+07          NaN          NaN"
            ]
          },
          "metadata": {},
          "execution_count": 126
        }
      ]
    },
    {
      "cell_type": "markdown",
      "source": [
        "## UniprotIDがあってもGene Name が欠損しているタンパクをリスト化"
      ],
      "metadata": {
        "id": "JiNQcv99CbWp"
      }
    },
    {
      "cell_type": "code",
      "metadata": {
        "jupyter": {
          "source_hidden": true
        },
        "tags": [],
        "id": "3189687b-c464-44d8-b753-9c66c6e65a0d"
      },
      "source": [
        "def uniprot_genename():\n",
        "    df = pd.read_excel(f)\n",
        "    df = df.T\n",
        "    IDdf = df.loc[['Accession','Description', 'Symbol'],:].T\n",
        "    IDdf.to_excel(\"IDdf.xlsx\")\n",
        "    return IDdf\n",
        "IDdf = uniprot_genename()"
      ],
      "execution_count": null,
      "outputs": []
    },
    {
      "cell_type": "code",
      "source": [
        "IDdf = IDdf.loc[:,[\"Accession\",\"Symbol\"]]\n",
        "IDdf.loc[:, \"Symbol\"] = IDdf.loc[:, \"Symbol\"].str.strip()\n",
        "IDdf[IDdf.iloc[:, 1] == \"\"].shape"
      ],
      "metadata": {
        "colab": {
          "base_uri": "https://localhost:8080/"
        },
        "id": "umQe8K2N3eo_",
        "outputId": "a817580e-10eb-436f-ee58-30c3243045c0"
      },
      "execution_count": null,
      "outputs": [
        {
          "output_type": "execute_result",
          "data": {
            "text/plain": [
              "(53, 2)"
            ]
          },
          "metadata": {},
          "execution_count": 120
        }
      ]
    },
    {
      "cell_type": "markdown",
      "source": [
        "## テキスト６匹中、４匹、５匹分欠損しているデータを出力"
      ],
      "metadata": {
        "id": "B_Au4azCcDz3"
      }
    },
    {
      "cell_type": "code",
      "source": [
        "os.chdir('/content/')\n",
        "dfout=df.loc[:,df.isnull().sum() >= 5]\n",
        "dfout.to_excel(\"6匹中5匹欠損.xlsx\")\n",
        "dfout=df.loc[:,df.isnull().sum() == 4]\n",
        "dfout.to_excel(\"6匹中4匹欠損.xlsx\")\n",
        "os.chdir('/content/drive/My Drive/Colab Notebooks/TRPV2Heart/')"
      ],
      "metadata": {
        "id": "AxSZZg8P-Xhs"
      },
      "execution_count": null,
      "outputs": []
    },
    {
      "cell_type": "markdown",
      "source": [
        "## データフレームのすべての値を並べて、出現頻度のHistgramを出力"
      ],
      "metadata": {
        "id": "MMR86bMmbZmN"
      }
    },
    {
      "cell_type": "code",
      "source": [
        "#データフレームのすべての値を並べて、出現頻度のHistgramを出力\n",
        "arr = df.drop([\"class\"],axis=1).to_numpy()\n",
        "arr = arr.flatten()\n",
        "arr = arr.astype(float)\n",
        "arr = arr[~np.isnan(arr)]\n",
        "\n",
        "arrlist = []\n",
        "ran = [10**x for x in range(4,13)]\n",
        "for i in ran:arrlist.append(arr[arr<i])\n",
        "\n",
        "fig, [[ax1, ax2, ax3], [ax4, ax5, ax6],[ax7, ax8, ax9],[ax10, ax11, ax12]] = plt.subplots(nrows=4, ncols=3, figsize=(15,20))\n",
        "ax = [ax1, ax2, ax3, ax4, ax5, ax6, ax7, ax8, ax9]\n",
        "\n",
        "for ax, arr, r in zip(ax, arrlist, ran):\n",
        "  ax.hist(arr)\n",
        "  ax.set_title(\"< {}. n = {}\".format(r, arr.shape[0]))\n",
        "  ax.set_ylabel(\"Frequency\")\n",
        "  ax.set_xlabel(\"Abundance\")\n",
        "\n",
        "ax = [ax10, ax11, ax12]\n",
        "arrlist = []\n",
        "ran = [10**x for x in range(8,11)]\n",
        "for i in ran:arrlist.append(arr[arr>i])\n",
        "for ax, arr, r in zip(ax, arrlist, ran):\n",
        "  ax.hist(arr)\n",
        "  ax.set_title(\"> {}. n = {}\".format(r, arr.shape[0]))\n",
        "  ax.set_ylabel(\"Frequency\")\n",
        "  ax.set_xlabel(\"Abundance\")\n",
        "\n",
        "os.chdir('/content/')\n",
        "fig.savefig(\"hist.jpg\")\n",
        "os.chdir('/content/drive/My Drive/Colab Notebooks/TRPV2Heart/')\n"
      ],
      "metadata": {
        "colab": {
          "base_uri": "https://localhost:8080/",
          "height": 1000
        },
        "id": "XUgrbP0-SAdD",
        "outputId": "ba82d685-e33e-4cee-fbe7-2b3340eb4a06"
      },
      "execution_count": null,
      "outputs": [
        {
          "output_type": "display_data",
          "data": {
            "image/png": "[encoded data removed]",
            "text/plain": [
              "<Figure size 1080x1440 with 12 Axes>"
            ]
          },
          "metadata": {
            "needs_background": "light"
          }
        }
      ]
    },
    {
      "cell_type": "markdown",
      "source": [
        ""
      ],
      "metadata": {
        "id": "hghhlMxClWb7"
      }
    },
    {
      "cell_type": "markdown",
      "source": [
        "## 四分位点チェック"
      ],
      "metadata": {
        "id": "2h6tKvcclYwr"
      }
    },
    {
      "cell_type": "code",
      "source": [
        "arr = df.drop([\"class\"],axis=1).to_numpy()\n",
        "arr = arr.flatten()\n",
        "arr = arr.astype(float)\n",
        "arr = arr[~np.isnan(arr)]\n",
        "\n",
        "np.percentile(arr,[0,25,50,75,100])\n",
        "#upper = np.percentile(arr,[0,25,50,75,100])[1]\n"
      ],
      "metadata": {
        "colab": {
          "base_uri": "https://localhost:8080/"
        },
        "id": "xzW8mvT8qYyx",
        "outputId": "04712ff2-5132-4e52-fc84-d6e1bffabb4e"
      },
      "execution_count": null,
      "outputs": [
        {
          "output_type": "execute_result",
          "data": {
            "text/plain": [
              "array([1.39433260e+04, 1.31400069e+06, 6.15831673e+06, 3.66382528e+07,\n",
              "       6.33943995e+10])"
            ]
          },
          "metadata": {},
          "execution_count": 129
        }
      ]
    },
    {
      "cell_type": "markdown",
      "source": [
        "## 欠損削除の条件"
      ],
      "metadata": {
        "id": "lVZ9ZbkTc6_7"
      }
    },
    {
      "cell_type": "code",
      "source": [
        "def exclude(df, atleast):\n",
        "  exclude1 = df.loc[:,df.isnull().sum() >= atleast].columns.values\n",
        "  dfex = df.loc[:,exclude1].copy()\n",
        "  print(\"欠損数 {} 個以上タンパク質は除外。除外タンパク質数は {}。\".format(atleast, len(exclude1)))\n",
        "  for i in range(atleast,6):print(\"欠損が {} 匹で見られたタンパク質の数は {} です。\".format(i,dfex.loc[:, dfex.isnull().sum()==i].shape[1]))\n",
        "  df = df.drop(exclude1, axis=1)\n",
        "  return df\n",
        "\n",
        "atleast = 5\n",
        "df = exclude(df, atleast)"
      ],
      "metadata": {
        "colab": {
          "base_uri": "https://localhost:8080/"
        },
        "id": "NoIA1YNuc5FF",
        "outputId": "1310459c-7084-4504-ecb8-635fcbe36140"
      },
      "execution_count": null,
      "outputs": [
        {
          "output_type": "stream",
          "name": "stdout",
          "text": [
            "欠損数 5 個以上タンパク質は除外。除外タンパク質数は 11。\n",
            "欠損が 5 匹で見られたタンパク質の数は 11 です。\n"
          ]
        }
      ]
    },
    {
      "cell_type": "markdown",
      "source": [
        "## Imputation  Imputa = 最低値としている"
      ],
      "metadata": {
        "id": "GO7gR6X6kSnN"
      }
    },
    {
      "cell_type": "code",
      "source": [
        "def imputation_med():\n",
        "  #各クラスのmedianデータで欠損値を保管\n",
        "  df = basedf()\n",
        "  yo = df.loc[:,\"class\"]  \n",
        "  df = df.groupby([\"class\"], as_index=False).transform(lambda x: x.fillna(x.median()))\n",
        "  df.insert(0,\"class\",yo)\n",
        "  return df\n",
        "\n",
        "def imputation_class_nan(df,imputa): \n",
        "  #クラス全体がnanの項目保存。\n",
        "  dfnan = df.loc[:,df.isnull().sum() >0].copy()\n",
        "  print(\"クラスまるごと欠損タンパク出力\")\n",
        "  os.chdir('/content/')\n",
        "  dfnan.to_excel(\"nulls.xlsx\")\n",
        "  os.chdir('/content/drive/My Drive/Colab Notebooks/TRPV2Heart/')\n",
        "  #欠損補完\n",
        "  df = df.fillna(imputa)\n",
        "  return df\n",
        "\n",
        "df = imputation_med()\n",
        "imputa = np.min(arr)\n",
        "df = imputation_class_nan(df,imputa)"
      ],
      "metadata": {
        "colab": {
          "base_uri": "https://localhost:8080/"
        },
        "id": "agy_isjMkR_-",
        "outputId": "85a64e85-dd84-4294-8a04-ae7954f92b8f"
      },
      "execution_count": null,
      "outputs": [
        {
          "output_type": "stream",
          "name": "stderr",
          "text": [
            "/usr/local/lib/python3.7/dist-packages/numpy/lib/nanfunctions.py:1111: RuntimeWarning: Mean of empty slice\n",
            "  return np.nanmean(a, axis, out=out, keepdims=keepdims)\n",
            "/usr/local/lib/python3.7/dist-packages/numpy/lib/nanfunctions.py:1114: RuntimeWarning: All-NaN slice encountered\n",
            "  overwrite_input=overwrite_input)\n"
          ]
        },
        {
          "output_type": "stream",
          "name": "stdout",
          "text": [
            "クラスまるごと欠損タンパク出力\n"
          ]
        }
      ]
    },
    {
      "cell_type": "markdown",
      "source": [
        "## 対数化"
      ],
      "metadata": {
        "id": "i4UjUD_vwGQs"
      }
    },
    {
      "cell_type": "code",
      "source": [
        "def logarithmic_transform(df):\n",
        "  yo = df.loc[:, \"class\"]  \n",
        "  df.drop(\"class\", axis=1, inplace = True)\n",
        "  df = np.log2(df)\n",
        "  df.insert(0,\"class\",yo)\n",
        "  return df\n",
        "\n",
        "df = logarithmic_transform(df)"
      ],
      "metadata": {
        "id": "JSidQ6nwwFvN"
      },
      "execution_count": null,
      "outputs": []
    },
    {
      "cell_type": "markdown",
      "source": [
        "## Lasso"
      ],
      "metadata": {
        "id": "N5cBYWo4Ep-v"
      }
    },
    {
      "cell_type": "code",
      "source": [
        "def dolasso(alpha,x_train,x_test, y_train, y_test):\n",
        "    lss = Lasso(alpha=alpha)\n",
        "    lss.fit(x_train, y_train)\n",
        "    y_pred = lss.predict(x_test)\n",
        "    y_pred_r  = y_pred.round() #四捨五入。\n",
        "    score = lss.score(x_test, y_test)\n",
        "    return lss, y_pred,y_pred_r, score"
      ],
      "metadata": {
        "id": "l9_j1SAFx9jM"
      },
      "execution_count": null,
      "outputs": []
    },
    {
      "cell_type": "code",
      "source": [
        "from sklearn.metrics import f1_score\n",
        "skf = StratifiedKFold(n_splits=3)\n",
        "y = df.loc[:,\"class\"]\n",
        "X = df.drop(columns=\"class\")\n",
        "y = y.to_numpy()\n",
        "X = X.to_numpy()\n",
        "diclist = []\n",
        "\n",
        "for alpha in [1, 0.1, 0.05, 0.01, 0.001,0.0001, 0.00001]:\n",
        "  for train_index, test_index in skf.split(X,y):\n",
        "      X_train, X_test = X[train_index], X[test_index]\n",
        "      y_train, y_test = y[train_index], y[test_index]\n",
        "      lss, y_pred, y_pred_r, score = dolasso(alpha,X_train, X_test,y_train, y_test)\n",
        "\n",
        "      n = lss.coef_\n",
        "      #print(\"係数が０でない変数の個数は {}\".format(np.sum(lss.coef_ != 0)))\n",
        "      l =[]\n",
        "      d = {}\n",
        "      d[\"alpha\"] = alpha\n",
        "      d[\"y_pred\"] = y_pred\n",
        "      d[\"y_pred_r\"] = y_pred_r\n",
        "      d[\"y_test\"] = y_test  \n",
        "      d[\"score\"] = score\n",
        "      d[\"lss.coef_not0\"] =  np.sum(lss.coef_ != 0)\n",
        "      #βが０で無いタンパクを列として追加する。\n",
        "      Xcols = df.drop(columns=\"class\").columns.values\n",
        "      for i, e in enumerate(lss.coef_):\n",
        "        if e != 0:\n",
        "          d[Xcols[i]] = e\n",
        "      diclist.append(d)    "
      ],
      "metadata": {
        "colab": {
          "base_uri": "https://localhost:8080/"
        },
        "id": "JVPQERIhyXzb",
        "outputId": "b0744422-9fd9-4f54-ec92-5398afd9941e"
      },
      "execution_count": null,
      "outputs": [
        {
          "output_type": "stream",
          "name": "stderr",
          "text": [
            "/usr/local/lib/python3.7/dist-packages/sklearn/linear_model/_coordinate_descent.py:648: ConvergenceWarning: Objective did not converge. You might want to increase the number of iterations, check the scale of the features or consider increasing regularisation. Duality gap: 1.296e-04, tolerance: 1.000e-04\n",
            "  coef_, l1_reg, l2_reg, X, y, max_iter, tol, rng, random, positive\n",
            "/usr/local/lib/python3.7/dist-packages/sklearn/linear_model/_coordinate_descent.py:648: ConvergenceWarning: Objective did not converge. You might want to increase the number of iterations, check the scale of the features or consider increasing regularisation. Duality gap: 1.105e-04, tolerance: 1.000e-04\n",
            "  coef_, l1_reg, l2_reg, X, y, max_iter, tol, rng, random, positive\n",
            "/usr/local/lib/python3.7/dist-packages/sklearn/linear_model/_coordinate_descent.py:648: ConvergenceWarning: Objective did not converge. You might want to increase the number of iterations, check the scale of the features or consider increasing regularisation. Duality gap: 1.041e-04, tolerance: 1.000e-04\n",
            "  coef_, l1_reg, l2_reg, X, y, max_iter, tol, rng, random, positive\n"
          ]
        }
      ]
    },
    {
      "cell_type": "code",
      "source": [
        "diclist  #Q9Y5S1\n",
        "dfo = pd.DataFrame(diclist)\n",
        "os.chdir('/content/')\n",
        "dfo.to_excel(\"lassoResult.xlsx\")\n",
        "os.chdir('/content/drive/My Drive/Colab Notebooks/TRPV2Heart/')"
      ],
      "metadata": {
        "id": "-3GIzFNPzUKi"
      },
      "execution_count": null,
      "outputs": []
    },
    {
      "cell_type": "code",
      "source": [
        "from sklearn.model_selection import StratifiedKFold\n",
        "from sklearn.linear_model import Lasso\n",
        "from sklearn.metrics import mean_squared_error\n",
        "\n",
        "skf = StratifiedKFold(n_splits=2)\n",
        "y = df.loc[:,\"class\"]\n",
        "X = df.drop(columns=\"class\")\n",
        "y = y.to_numpy()\n",
        "X = X.to_numpy()\n",
        "diclist = []\n",
        "\n",
        "for alpha in [1, 0.1, 0.05, 0.01, 0.001]:\n",
        "  for train_index, test_index in skf.split(X,y):\n",
        "    X_train, X_test = X[train_index], X[test_index]\n",
        "    y_train, y_test = y[train_index], y[test_index]\n",
        "    lss, y_pred,y_pred_r, score = dolasso(alpha,X_train, X_test,y_train, y_test) \n",
        "    n = lss.coef_\n",
        "    #print(\"係数が０でない変数の個数は {}\".format(np.sum(lss.coef_ != 0)))\n",
        "    l =[]\n",
        "    d = {}\n",
        "    d[\"alpha\"] = alpha\n",
        "    d[\"y_pred\"] = y_pred\n",
        "    d[\"y_pred_r\"] = y_pred_r\n",
        "    d[\"score\"] = score\n",
        "    d[\"y_test\"] = y_test  \n",
        "    d[\"lss.coef_not0\"] =  np.sum(lss.coef_ != 0)\n",
        "    #βが０で無いタンパクを列として追加する。\n",
        "    Xcols = df.drop(columns=\"class\").columns.values\n",
        "    for i, e in enumerate(lss.coef_):\n",
        "      if e != 0:\n",
        "        d[Xcols[i]] = e\n",
        "    diclist.append(d)    \n",
        "    "
      ],
      "metadata": {
        "id": "HLXn15Axw0F0"
      },
      "execution_count": null,
      "outputs": []
    },
    {
      "cell_type": "code",
      "source": [
        "dfo = pd.DataFrame(diclist)\n",
        "dfo "
      ],
      "metadata": {
        "colab": {
          "base_uri": "https://localhost:8080/",
          "height": 363
        },
        "id": "FGXtbbk6-LO8",
        "outputId": "c45eb910-6ed0-4d63-f248-538f6e75dba0"
      },
      "execution_count": null,
      "outputs": [
        {
          "output_type": "execute_result",
          "data": {
            "text/html": [
              "\n",
              "  <div id=\"df-29e17850-20fb-479f-8188-d5fb3a599fd0\">\n",
              "    <div class=\"colab-df-container\">\n",
              "      <div>\n",
              "<style scoped>\n",
              "    .dataframe tbody tr th:only-of-type {\n",
              "        vertical-align: middle;\n",
              "    }\n",
              "\n",
              "    .dataframe tbody tr th {\n",
              "        vertical-align: top;\n",
              "    }\n",
              "\n",
              "    .dataframe thead th {\n",
              "        text-align: right;\n",
              "    }\n",
              "</style>\n",
              "<table border=\"1\" class=\"dataframe\">\n",
              "  <thead>\n",
              "    <tr style=\"text-align: right;\">\n",
              "      <th></th>\n",
              "      <th>alpha</th>\n",
              "      <th>y_pred</th>\n",
              "      <th>y_pred_r</th>\n",
              "      <th>score</th>\n",
              "      <th>y_test</th>\n",
              "      <th>lss.coef_not0</th>\n",
              "      <th>B2RWG1</th>\n",
              "    </tr>\n",
              "  </thead>\n",
              "  <tbody>\n",
              "    <tr>\n",
              "      <th>0</th>\n",
              "      <td>1.000</td>\n",
              "      <td>[0.6666666666666666, 0.6666666666666666, 0.666...</td>\n",
              "      <td>[1.0, 1.0, 1.0]</td>\n",
              "      <td>-0.500000</td>\n",
              "      <td>[0, 0, 1]</td>\n",
              "      <td>0</td>\n",
              "      <td>NaN</td>\n",
              "    </tr>\n",
              "    <tr>\n",
              "      <th>1</th>\n",
              "      <td>1.000</td>\n",
              "      <td>[0.3333333333333333, 0.3333333333333333, 0.333...</td>\n",
              "      <td>[0.0, 0.0, 0.0]</td>\n",
              "      <td>-0.500000</td>\n",
              "      <td>[0, 1, 1]</td>\n",
              "      <td>0</td>\n",
              "      <td>NaN</td>\n",
              "    </tr>\n",
              "    <tr>\n",
              "      <th>2</th>\n",
              "      <td>0.100</td>\n",
              "      <td>[0.4060134166776903, 0.406738555259905, 0.8072...</td>\n",
              "      <td>[0.0, 0.0, 1.0]</td>\n",
              "      <td>0.448866</td>\n",
              "      <td>[0, 0, 1]</td>\n",
              "      <td>1</td>\n",
              "      <td>-0.541984</td>\n",
              "    </tr>\n",
              "    <tr>\n",
              "      <th>3</th>\n",
              "      <td>0.100</td>\n",
              "      <td>[0.18232352465702562, 0.5944318986739314, 0.59...</td>\n",
              "      <td>[0.0, 1.0, 1.0]</td>\n",
              "      <td>0.456681</td>\n",
              "      <td>[0, 1, 1]</td>\n",
              "      <td>1</td>\n",
              "      <td>-0.529465</td>\n",
              "    </tr>\n",
              "    <tr>\n",
              "      <th>4</th>\n",
              "      <td>0.050</td>\n",
              "      <td>[0.22740117923844672, 0.2286232179154366, 0.90...</td>\n",
              "      <td>[0.0, 0.0, 1.0]</td>\n",
              "      <td>0.830103</td>\n",
              "      <td>[0, 0, 1]</td>\n",
              "      <td>1</td>\n",
              "      <td>-0.913378</td>\n",
              "    </tr>\n",
              "    <tr>\n",
              "      <th>5</th>\n",
              "      <td>0.050</td>\n",
              "      <td>[0.0650411598729077, 0.7972151314540286, 0.797...</td>\n",
              "      <td>[0.0, 1.0, 1.0]</td>\n",
              "      <td>0.870289</td>\n",
              "      <td>[0, 1, 1]</td>\n",
              "      <td>1</td>\n",
              "      <td>-0.940677</td>\n",
              "    </tr>\n",
              "    <tr>\n",
              "      <th>6</th>\n",
              "      <td>0.010</td>\n",
              "      <td>[0.08451138928705237, 0.08613094803986243, 0.9...</td>\n",
              "      <td>[0.0, 0.0, 1.0]</td>\n",
              "      <td>0.977602</td>\n",
              "      <td>[0, 0, 1]</td>\n",
              "      <td>1</td>\n",
              "      <td>-1.210493</td>\n",
              "    </tr>\n",
              "    <tr>\n",
              "      <th>7</th>\n",
              "      <td>0.010</td>\n",
              "      <td>[-0.02878473195438591, 0.9594417176781063, 0.9...</td>\n",
              "      <td>[-0.0, 1.0, 1.0]</td>\n",
              "      <td>0.993822</td>\n",
              "      <td>[0, 1, 1]</td>\n",
              "      <td>1</td>\n",
              "      <td>-1.269646</td>\n",
              "    </tr>\n",
              "    <tr>\n",
              "      <th>8</th>\n",
              "      <td>0.001</td>\n",
              "      <td>[0.052361186547988936, 0.0540701873178584, 0.9...</td>\n",
              "      <td>[0.0, 0.0, 1.0]</td>\n",
              "      <td>0.991497</td>\n",
              "      <td>[0, 0, 1]</td>\n",
              "      <td>1</td>\n",
              "      <td>-1.277344</td>\n",
              "    </tr>\n",
              "    <tr>\n",
              "      <th>9</th>\n",
              "      <td>0.001</td>\n",
              "      <td>[-0.04989555761552644, 0.9959426995785208, 0.9...</td>\n",
              "      <td>[-0.0, 1.0, 1.0]</td>\n",
              "      <td>0.996216</td>\n",
              "      <td>[0, 1, 1]</td>\n",
              "      <td>1</td>\n",
              "      <td>-1.343664</td>\n",
              "    </tr>\n",
              "  </tbody>\n",
              "</table>\n",
              "</div>\n",
              "      <button class=\"colab-df-convert\" onclick=\"convertToInteractive('df-29e17850-20fb-479f-8188-d5fb3a599fd0')\"\n",
              "              title=\"Convert this dataframe to an interactive table.\"\n",
              "              style=\"display:none;\">\n",
              "        \n",
              "  <svg xmlns=\"http://www.w3.org/2000/svg\" height=\"24px\"viewBox=\"0 0 24 24\"\n",
              "       width=\"24px\">\n",
              "    <path d=\"M0 0h24v24H0V0z\" fill=\"none\"/>\n",
              "    <path d=\"M18.56 5.44l.94 2.06.94-2.06 2.06-.94-2.06-.94-.94-2.06-.94 2.06-2.06.94zm-11 1L8.5 8.5l.94-2.06 2.06-.94-2.06-.94L8.5 2.5l-.94 2.06-2.06.94zm10 10l.94 2.06.94-2.06 2.06-.94-2.06-.94-.94-2.06-.94 2.06-2.06.94z\"/><path d=\"M17.41 7.96l-1.37-1.37c-.4-.4-.92-.59-1.43-.59-.52 0-1.04.2-1.43.59L10.3 9.45l-7.72 7.72c-.78.78-.78 2.05 0 2.83L4 21.41c.39.39.9.59 1.41.59.51 0 1.02-.2 1.41-.59l7.78-7.78 2.81-2.81c.8-.78.8-2.07 0-2.86zM5.41 20L4 18.59l7.72-7.72 1.47 1.35L5.41 20z\"/>\n",
              "  </svg>\n",
              "      </button>\n",
              "      \n",
              "  <style>\n",
              "    .colab-df-container {\n",
              "      display:flex;\n",
              "      flex-wrap:wrap;\n",
              "      gap: 12px;\n",
              "    }\n",
              "\n",
              "    .colab-df-convert {\n",
              "      background-color: #E8F0FE;\n",
              "      border: none;\n",
              "      border-radius: 50%;\n",
              "      cursor: pointer;\n",
              "      display: none;\n",
              "      fill: #1967D2;\n",
              "      height: 32px;\n",
              "      padding: 0 0 0 0;\n",
              "      width: 32px;\n",
              "    }\n",
              "\n",
              "    .colab-df-convert:hover {\n",
              "      background-color: #E2EBFA;\n",
              "      box-shadow: 0px 1px 2px rgba(60, 64, 67, 0.3), 0px 1px 3px 1px rgba(60, 64, 67, 0.15);\n",
              "      fill: #174EA6;\n",
              "    }\n",
              "\n",
              "    [theme=dark] .colab-df-convert {\n",
              "      background-color: #3B4455;\n",
              "      fill: #D2E3FC;\n",
              "    }\n",
              "\n",
              "    [theme=dark] .colab-df-convert:hover {\n",
              "      background-color: #434B5C;\n",
              "      box-shadow: 0px 1px 3px 1px rgba(0, 0, 0, 0.15);\n",
              "      filter: drop-shadow(0px 1px 2px rgba(0, 0, 0, 0.3));\n",
              "      fill: #FFFFFF;\n",
              "    }\n",
              "  </style>\n",
              "\n",
              "      <script>\n",
              "        const buttonEl =\n",
              "          document.querySelector('#df-29e17850-20fb-479f-8188-d5fb3a599fd0 button.colab-df-convert');\n",
              "        buttonEl.style.display =\n",
              "          google.colab.kernel.accessAllowed ? 'block' : 'none';\n",
              "\n",
              "        async function convertToInteractive(key) {\n",
              "          const element = document.querySelector('#df-29e17850-20fb-479f-8188-d5fb3a599fd0');\n",
              "          const dataTable =\n",
              "            await google.colab.kernel.invokeFunction('convertToInteractive',\n",
              "                                                     [key], {});\n",
              "          if (!dataTable) return;\n",
              "\n",
              "          const docLinkHtml = 'Like what you see? Visit the ' +\n",
              "            '<a target=\"_blank\" href=https://colab.research.google.com/notebooks/data_table.ipynb>data table notebook</a>'\n",
              "            + ' to learn more about interactive tables.';\n",
              "          element.innerHTML = '';\n",
              "          dataTable['output_type'] = 'display_data';\n",
              "          await google.colab.output.renderOutput(dataTable, element);\n",
              "          const docLink = document.createElement('div');\n",
              "          docLink.innerHTML = docLinkHtml;\n",
              "          element.appendChild(docLink);\n",
              "        }\n",
              "      </script>\n",
              "    </div>\n",
              "  </div>\n",
              "  "
            ],
            "text/plain": [
              "   alpha  ...    B2RWG1\n",
              "0  1.000  ...       NaN\n",
              "1  1.000  ...       NaN\n",
              "2  0.100  ... -0.541984\n",
              "3  0.100  ... -0.529465\n",
              "4  0.050  ... -0.913378\n",
              "5  0.050  ... -0.940677\n",
              "6  0.010  ... -1.210493\n",
              "7  0.010  ... -1.269646\n",
              "8  0.001  ... -1.277344\n",
              "9  0.001  ... -1.343664\n",
              "\n",
              "[10 rows x 7 columns]"
            ]
          },
          "metadata": {},
          "execution_count": 102
        }
      ]
    },
    {
      "cell_type": "markdown",
      "source": [
        "## LASSOで２つだけでモデル決まる。おかしい。以下見みるとNANが多いタンパク。"
      ],
      "metadata": {
        "id": "vXKT4GemFIWs"
      }
    },
    {
      "cell_type": "code",
      "source": [
        "df.loc[:, [\"B2RWG1\",\"Q3UV17\",\"O08692\",\"Q9Z284\"]]"
      ],
      "metadata": {
        "colab": {
          "base_uri": "https://localhost:8080/",
          "height": 238
        },
        "id": "VZYo44_-FHx-",
        "outputId": "9a0d098d-c669-480b-ba62-89434641d0ba"
      },
      "execution_count": null,
      "outputs": [
        {
          "output_type": "execute_result",
          "data": {
            "text/html": [
              "\n",
              "  <div id=\"df-a0b3afca-65b5-4674-9b97-df0f3846bbc2\">\n",
              "    <div class=\"colab-df-container\">\n",
              "      <div>\n",
              "<style scoped>\n",
              "    .dataframe tbody tr th:only-of-type {\n",
              "        vertical-align: middle;\n",
              "    }\n",
              "\n",
              "    .dataframe tbody tr th {\n",
              "        vertical-align: top;\n",
              "    }\n",
              "\n",
              "    .dataframe thead th {\n",
              "        text-align: right;\n",
              "    }\n",
              "</style>\n",
              "<table border=\"1\" class=\"dataframe\">\n",
              "  <thead>\n",
              "    <tr style=\"text-align: right;\">\n",
              "      <th>Accession</th>\n",
              "      <th>B2RWG1</th>\n",
              "      <th>Q3UV17</th>\n",
              "      <th>O08692</th>\n",
              "      <th>Q9Z284</th>\n",
              "    </tr>\n",
              "  </thead>\n",
              "  <tbody>\n",
              "    <tr>\n",
              "      <th>F1</th>\n",
              "      <td>8.3871e+06</td>\n",
              "      <td>14274.6</td>\n",
              "      <td>4.75204e+06</td>\n",
              "      <td>2.04913e+06</td>\n",
              "    </tr>\n",
              "    <tr>\n",
              "      <th>F2</th>\n",
              "      <td>8.26407e+06</td>\n",
              "      <td>NaN</td>\n",
              "      <td>6.55603e+06</td>\n",
              "      <td>NaN</td>\n",
              "    </tr>\n",
              "    <tr>\n",
              "      <th>F3</th>\n",
              "      <td>1.28314e+07</td>\n",
              "      <td>3.39843e+07</td>\n",
              "      <td>3.19329e+06</td>\n",
              "      <td>NaN</td>\n",
              "    </tr>\n",
              "    <tr>\n",
              "      <th>F4</th>\n",
              "      <td>NaN</td>\n",
              "      <td>3.80761e+07</td>\n",
              "      <td>NaN</td>\n",
              "      <td>NaN</td>\n",
              "    </tr>\n",
              "    <tr>\n",
              "      <th>F5</th>\n",
              "      <td>NaN</td>\n",
              "      <td>1.40061e+06</td>\n",
              "      <td>NaN</td>\n",
              "      <td>NaN</td>\n",
              "    </tr>\n",
              "    <tr>\n",
              "      <th>F6</th>\n",
              "      <td>NaN</td>\n",
              "      <td>5.62708e+07</td>\n",
              "      <td>NaN</td>\n",
              "      <td>NaN</td>\n",
              "    </tr>\n",
              "  </tbody>\n",
              "</table>\n",
              "</div>\n",
              "      <button class=\"colab-df-convert\" onclick=\"convertToInteractive('df-a0b3afca-65b5-4674-9b97-df0f3846bbc2')\"\n",
              "              title=\"Convert this dataframe to an interactive table.\"\n",
              "              style=\"display:none;\">\n",
              "        \n",
              "  <svg xmlns=\"http://www.w3.org/2000/svg\" height=\"24px\"viewBox=\"0 0 24 24\"\n",
              "       width=\"24px\">\n",
              "    <path d=\"M0 0h24v24H0V0z\" fill=\"none\"/>\n",
              "    <path d=\"M18.56 5.44l.94 2.06.94-2.06 2.06-.94-2.06-.94-.94-2.06-.94 2.06-2.06.94zm-11 1L8.5 8.5l.94-2.06 2.06-.94-2.06-.94L8.5 2.5l-.94 2.06-2.06.94zm10 10l.94 2.06.94-2.06 2.06-.94-2.06-.94-.94-2.06-.94 2.06-2.06.94z\"/><path d=\"M17.41 7.96l-1.37-1.37c-.4-.4-.92-.59-1.43-.59-.52 0-1.04.2-1.43.59L10.3 9.45l-7.72 7.72c-.78.78-.78 2.05 0 2.83L4 21.41c.39.39.9.59 1.41.59.51 0 1.02-.2 1.41-.59l7.78-7.78 2.81-2.81c.8-.78.8-2.07 0-2.86zM5.41 20L4 18.59l7.72-7.72 1.47 1.35L5.41 20z\"/>\n",
              "  </svg>\n",
              "      </button>\n",
              "      \n",
              "  <style>\n",
              "    .colab-df-container {\n",
              "      display:flex;\n",
              "      flex-wrap:wrap;\n",
              "      gap: 12px;\n",
              "    }\n",
              "\n",
              "    .colab-df-convert {\n",
              "      background-color: #E8F0FE;\n",
              "      border: none;\n",
              "      border-radius: 50%;\n",
              "      cursor: pointer;\n",
              "      display: none;\n",
              "      fill: #1967D2;\n",
              "      height: 32px;\n",
              "      padding: 0 0 0 0;\n",
              "      width: 32px;\n",
              "    }\n",
              "\n",
              "    .colab-df-convert:hover {\n",
              "      background-color: #E2EBFA;\n",
              "      box-shadow: 0px 1px 2px rgba(60, 64, 67, 0.3), 0px 1px 3px 1px rgba(60, 64, 67, 0.15);\n",
              "      fill: #174EA6;\n",
              "    }\n",
              "\n",
              "    [theme=dark] .colab-df-convert {\n",
              "      background-color: #3B4455;\n",
              "      fill: #D2E3FC;\n",
              "    }\n",
              "\n",
              "    [theme=dark] .colab-df-convert:hover {\n",
              "      background-color: #434B5C;\n",
              "      box-shadow: 0px 1px 3px 1px rgba(0, 0, 0, 0.15);\n",
              "      filter: drop-shadow(0px 1px 2px rgba(0, 0, 0, 0.3));\n",
              "      fill: #FFFFFF;\n",
              "    }\n",
              "  </style>\n",
              "\n",
              "      <script>\n",
              "        const buttonEl =\n",
              "          document.querySelector('#df-a0b3afca-65b5-4674-9b97-df0f3846bbc2 button.colab-df-convert');\n",
              "        buttonEl.style.display =\n",
              "          google.colab.kernel.accessAllowed ? 'block' : 'none';\n",
              "\n",
              "        async function convertToInteractive(key) {\n",
              "          const element = document.querySelector('#df-a0b3afca-65b5-4674-9b97-df0f3846bbc2');\n",
              "          const dataTable =\n",
              "            await google.colab.kernel.invokeFunction('convertToInteractive',\n",
              "                                                     [key], {});\n",
              "          if (!dataTable) return;\n",
              "\n",
              "          const docLinkHtml = 'Like what you see? Visit the ' +\n",
              "            '<a target=\"_blank\" href=https://colab.research.google.com/notebooks/data_table.ipynb>data table notebook</a>'\n",
              "            + ' to learn more about interactive tables.';\n",
              "          element.innerHTML = '';\n",
              "          dataTable['output_type'] = 'display_data';\n",
              "          await google.colab.output.renderOutput(dataTable, element);\n",
              "          const docLink = document.createElement('div');\n",
              "          docLink.innerHTML = docLinkHtml;\n",
              "          element.appendChild(docLink);\n",
              "        }\n",
              "      </script>\n",
              "    </div>\n",
              "  </div>\n",
              "  "
            ],
            "text/plain": [
              "Accession       B2RWG1       Q3UV17       O08692       Q9Z284\n",
              "F1          8.3871e+06      14274.6  4.75204e+06  2.04913e+06\n",
              "F2         8.26407e+06          NaN  6.55603e+06          NaN\n",
              "F3         1.28314e+07  3.39843e+07  3.19329e+06          NaN\n",
              "F4                 NaN  3.80761e+07          NaN          NaN\n",
              "F5                 NaN  1.40061e+06          NaN          NaN\n",
              "F6                 NaN  5.62708e+07          NaN          NaN"
            ]
          },
          "metadata": {},
          "execution_count": 128
        }
      ]
    },
    {
      "cell_type": "code",
      "source": [
        "os.chdir('/content/')\n",
        "df.loc[:, [\"B2RWG1\",\"Q3UV17\",\"O08692\",\"Q9Z284\"]].to_excel(\"4vals.xlsx\")\n",
        "os.chdir('/content/drive/My Drive/Colab Notebooks/TRPV2Heart/')"
      ],
      "metadata": {
        "id": "EbhuHks4EfS2"
      },
      "execution_count": null,
      "outputs": []
    },
    {
      "cell_type": "markdown",
      "source": [
        "# 解析パターン２ （実行前にランタイム再起動を）　Impuputationパターンなど変更"
      ],
      "metadata": {
        "id": "uo_HBZKjKyaV"
      }
    },
    {
      "cell_type": "markdown",
      "source": [
        "## Df作成"
      ],
      "metadata": {
        "id": "oaX629FZttUj"
      }
    },
    {
      "cell_type": "code",
      "source": [
        "import pandas as pd\n",
        "import numpy as np\n",
        "def basedf(atleast,imputa):\n",
        "  df = pd.read_excel(f)\n",
        "  df = df.T\n",
        "  df.columns = df.loc['Accession',:]\n",
        "  df = df.drop(index= 'Accession')\n",
        "  #Normalizeのみ選択。\n",
        "  l = ['Abundances (Normalized): F1: Sample, WT, WT1',\n",
        "    'Abundances (Normalized): F2: Sample, WT, WT2',\n",
        "    'Abundances (Normalized): F3: Sample, WT, WT3',\n",
        "    'Abundances (Normalized): F4: Sample, KO, KO1',\n",
        "    'Abundances (Normalized): F5: Sample, KO, KO2',\n",
        "    'Abundances (Normalized): F6: Sample, KO, KO3']\n",
        "  #NormalizeのみのDfを作成し、クラスを追加\n",
        "  df = df.loc[l, :].copy()\n",
        "  df.loc[:,\"class\"] = [0,0,0,1,1,1]\n",
        "  #Classを先頭列に\n",
        "  yo = df.loc[:,\"class\"]  \n",
        "  df.drop(\"class\", axis=1, inplace = True)\n",
        "  df.insert(0,\"class\",yo)\n",
        "\n",
        "  #ネズミ名をわかりやすくする。列名変更\n",
        "  nl = [\"F1\",\"F2\",\"F3\",\"F4\",\"F5\",\"F6\"]\n",
        "  df.index = nl    \n",
        "\n",
        "  #除外\n",
        "  exclude1 = df.loc[:,df.isnull().sum() >= atleast].columns.values\n",
        "  dfex = df.loc[:,exclude1].copy()\n",
        "  print(\"欠損数 {} 個以上タンパク質は除外。除外タンパク質数は {}。\".format(atleast, len(exclude1)))\n",
        "  for i in range(atleast,6):print(\"欠損が {} 匹で見られたタンパク質の数は {} です。\".format(i,dfex.loc[:, dfex.isnull().sum()==i].shape[1]))\n",
        "  df = df.drop(exclude1, axis=1)\n",
        "\n",
        "  #各クラスのmedianデータで欠損値を保管\n",
        "  yo = df.loc[:,\"class\"]  \n",
        "  df = df.groupby([\"class\"], as_index=False).transform(lambda x: x.fillna(x.median()))\n",
        "  df.insert(0,\"class\",yo)\n",
        "\n",
        "  #クラス全体がnanの項目保存。\n",
        "  dfnan = df.loc[:,df.isnull().sum() >0].copy()\n",
        "  print(\"クラスまるごと欠損タンパク出力\")\n",
        "  os.chdir('/content/')\n",
        "  dfnan.to_excel(\"nulls.xlsx\")\n",
        "  os.chdir('/content/drive/My Drive/Colab Notebooks/TRPV2Heart/')\n",
        "  #欠損補完\n",
        "  df = df.fillna(imputa)\n",
        "  return df\n"
      ],
      "metadata": {
        "id": "PAYlEalxHXzz"
      },
      "execution_count": null,
      "outputs": []
    },
    {
      "cell_type": "markdown",
      "source": [
        "## 対数化"
      ],
      "metadata": {
        "id": "djSQL1rdLMnO"
      }
    },
    {
      "cell_type": "code",
      "source": [
        "def logarithmic_transform(df):\n",
        "  yo = df.loc[:, \"class\"]  \n",
        "  df.drop(\"class\", axis=1, inplace = True)\n",
        "  df = np.log2(df)\n",
        "  df.insert(0,\"class\",yo)\n",
        "  return df\n"
      ],
      "metadata": {
        "id": "1qV180BPKgWv"
      },
      "execution_count": null,
      "outputs": []
    },
    {
      "cell_type": "markdown",
      "source": [
        "## Lasso定義"
      ],
      "metadata": {
        "id": "u5JUgBJWLPCW"
      }
    },
    {
      "cell_type": "code",
      "source": [
        "import numpy as np\n",
        "from sklearn.model_selection import StratifiedKFold\n",
        "from sklearn.linear_model import Lasso\n",
        "from sklearn.metrics import mean_squared_error\n",
        "\n",
        "def doCross_and_Lasso(df):\n",
        "  def dolasso(alpha,x_train,x_test, y_train, y_test):\n",
        "    lss = Lasso(alpha=alpha)\n",
        "    lss.fit(x_train, y_train)\n",
        "    y_pred = lss.predict(x_test)\n",
        "    y_pred_r  = y_pred.round() #四捨五入。\n",
        "    score = lss.score(x_test, y_test)\n",
        "    return lss, y_pred,y_pred_r, score\n",
        "  \n",
        "  skf = StratifiedKFold(n_splits=3)\n",
        "  y = df.loc[:,\"class\"]\n",
        "  X = df.drop(columns=\"class\")\n",
        "  y = y.to_numpy()\n",
        "  X = X.to_numpy()\n",
        "\n",
        "  diclist = []\n",
        "  for alpha in [1, 0.1, 0.05, 0.01, 0.001,0.0001]:\n",
        "    for train_index, test_index in skf.split(X,y):\n",
        "      X_train, X_test = X[train_index], X[test_index]\n",
        "      y_train, y_test = y[train_index], y[test_index]\n",
        "      lss, y_pred,y_pred_r, score = dolasso(alpha,X_train, X_test,y_train, y_test) \n",
        "      n = lss.coef_\n",
        "      #print(\"係数が０でない変数の個数は {}\".format(np.sum(lss.coef_ != 0)))\n",
        "      l =[]\n",
        "      d = {}\n",
        "      d[\"alpha\"] = alpha\n",
        "      d[\"y_pred\"] = y_pred\n",
        "      d[\"y_pred_r\"] = y_pred_r\n",
        "      d[\"score\"] = score\n",
        "      d[\"y_test\"] = y_test  \n",
        "      d[\"lss.coef_not0\"] =  np.sum(lss.coef_ != 0)\n",
        "      #βが０で無いタンパクを列として追加する。\n",
        "      Xcols = df.drop(columns=\"class\").columns.values\n",
        "      for i, e in enumerate(lss.coef_):\n",
        "        if e != 0:\n",
        "          d[Xcols[i]] = e\n",
        "      diclist.append(d)    \n",
        "  return diclist"
      ],
      "metadata": {
        "id": "MshpmaVWJDg2"
      },
      "execution_count": null,
      "outputs": []
    },
    {
      "cell_type": "markdown",
      "source": [
        "## 実行"
      ],
      "metadata": {
        "id": "9C1vhJ0lLSqM"
      }
    },
    {
      "cell_type": "code",
      "source": [
        "dflist = []\n",
        "for k in [1.39433260e+04, 1.31400069e+06]:\n",
        "  imputa = round(k)\n",
        "  for i in range(4, 6):\n",
        "    atleast = i   \n",
        "    df = basedf(atleast,imputa)\n",
        "    df = logarithmic_transform(df)\n",
        "    d = doCross_and_Lasso(df)\n",
        "    resdf = pd.DataFrame(d)\n",
        "    resdf.loc[:, \"imputation\"] = imputa\n",
        "    resdf.loc[:, \"exclude_cutoff\"] = atleast\n",
        "    dflist.append(resdf) \n",
        "\n",
        "os.chdir('/content/')\n",
        "out = pd.concat([dflist[x] for x in range(0,len(dflist))])\n",
        "ya = out.loc[:, \"imputation\"] \n",
        "yb = out.loc[:, \"exclude_cutoff\"]\n",
        "out.drop([\"imputation\",\"exclude_cutoff\"], axis=1, inplace = True)\n",
        "out.insert(0,\"imputation\",ya)\n",
        "out.insert(0,\"exclude_cutoff\",yb)\n",
        "out.to_excel(\"CrossLassoImputaionMissing考慮解析結果.xlsx\")\n",
        "os.chdir('/content/drive/My Drive/Colab Notebooks/TRPV2Heart/')"
      ],
      "metadata": {
        "id": "s20Kmr6MIqYf"
      },
      "execution_count": null,
      "outputs": []
    },
    {
      "cell_type": "markdown",
      "source": [
        "# 解析パターン３　Class全体がNanのものを削除 (ランタイム再起動を）"
      ],
      "metadata": {
        "id": "z-BpYVBuLxW7"
      }
    },
    {
      "cell_type": "code",
      "source": [
        "import pandas as pd\n",
        "import numpy as np\n",
        "def basedf(atleast,imputa):\n",
        "  df = pd.read_excel(f)\n",
        "  df = df.T\n",
        "  df.columns = df.loc['Accession',:]\n",
        "  df = df.drop(index= 'Accession')\n",
        "  #Normalizeのみ選択。\n",
        "  l = ['Abundances (Normalized): F1: Sample, WT, WT1',\n",
        "    'Abundances (Normalized): F2: Sample, WT, WT2',\n",
        "    'Abundances (Normalized): F3: Sample, WT, WT3',\n",
        "    'Abundances (Normalized): F4: Sample, KO, KO1',\n",
        "    'Abundances (Normalized): F5: Sample, KO, KO2',\n",
        "    'Abundances (Normalized): F6: Sample, KO, KO3']\n",
        "  #NormalizeのみのDfを作成し、クラスを追加\n",
        "  df = df.loc[l, :].copy()\n",
        "  df.loc[:,\"class\"] = [0,0,0,1,1,1]\n",
        "  #Classを先頭列に\n",
        "  yo = df.loc[:,\"class\"]  \n",
        "  df.drop(\"class\", axis=1, inplace = True)\n",
        "  df.insert(0,\"class\",yo)\n",
        "\n",
        "  #ネズミ名をわかりやすくする。列名変更\n",
        "  nl = [\"F1\",\"F2\",\"F3\",\"F4\",\"F5\",\"F6\"]\n",
        "  df.index = nl    \n",
        "\n",
        "  #除外\n",
        "  exclude1 = df.loc[:,df.isnull().sum() >= atleast].columns.values\n",
        "  dfex = df.loc[:,exclude1].copy()\n",
        "  print(\"欠損数 {} 個以上タンパク質は除外。除外タンパク質数は {}。\".format(atleast, len(exclude1)))\n",
        "  for i in range(atleast,6):print(\"欠損が {} 匹で見られたタンパク質の数は {} です。\".format(i,dfex.loc[:, dfex.isnull().sum()==i].shape[1]))\n",
        "  df = df.drop(exclude1, axis=1)\n",
        "\n",
        "  #各クラスのmedianデータで欠損値を保管\n",
        "  yo = df.loc[:,\"class\"]  \n",
        "  df = df.groupby([\"class\"], as_index=False).transform(lambda x: x.fillna(x.median()))\n",
        "  df.insert(0,\"class\",yo)\n",
        "\n",
        "  #クラス全体がnanのタンパクを削除\n",
        "  dfnan = df.loc[:,df.isnull().sum() >0].copy()\n",
        "  exclude = dfnan.columns.values\n",
        "  df = df.drop(exclude, axis=1)\n",
        "  \n",
        "  #欠損補完は無し。\n",
        "  return df\n"
      ],
      "metadata": {
        "id": "rHP9U2tMLwi7"
      },
      "execution_count": null,
      "outputs": []
    },
    {
      "cell_type": "code",
      "source": [
        "df = basedf(atleast=5,imputa=60000)\n",
        "df.isnull().sum()"
      ],
      "metadata": {
        "colab": {
          "base_uri": "https://localhost:8080/"
        },
        "id": "G-ECzR_aNlq_",
        "outputId": "57701da1-183e-4d0e-cd89-ae617f40ed8b"
      },
      "execution_count": null,
      "outputs": [
        {
          "output_type": "stream",
          "name": "stdout",
          "text": [
            "欠損数 5 個以上タンパク質は除外。除外タンパク質数は 11。\n",
            "欠損が 5 匹で見られたタンパク質の数は 11 です。\n"
          ]
        },
        {
          "output_type": "stream",
          "name": "stderr",
          "text": [
            "/usr/local/lib/python3.7/dist-packages/numpy/lib/nanfunctions.py:1111: RuntimeWarning: Mean of empty slice\n",
            "  return np.nanmean(a, axis, out=out, keepdims=keepdims)\n",
            "/usr/local/lib/python3.7/dist-packages/numpy/lib/nanfunctions.py:1114: RuntimeWarning: All-NaN slice encountered\n",
            "  overwrite_input=overwrite_input)\n"
          ]
        }
      ]
    },
    {
      "cell_type": "code",
      "source": [
        "def logarithmic_transform(df):\n",
        "  yo = df.loc[:, \"class\"]  \n",
        "  df.drop(\"class\", axis=1, inplace = True)\n",
        "  df = np.log2(df)\n",
        "  df.insert(0,\"class\",yo)\n",
        "  return df"
      ],
      "metadata": {
        "id": "kGLOIo-oOGYl"
      },
      "execution_count": null,
      "outputs": []
    },
    {
      "cell_type": "code",
      "source": [
        "import numpy as np\n",
        "from sklearn.model_selection import StratifiedKFold\n",
        "from sklearn.linear_model import Lasso\n",
        "from sklearn.metrics import mean_squared_error\n",
        "\n",
        "def doCross_and_Lasso(df):\n",
        "  def dolasso(alpha,x_train,x_test, y_train, y_test):\n",
        "    lss = Lasso(alpha=alpha)\n",
        "    lss.fit(x_train, y_train)\n",
        "    y_pred = lss.predict(x_test)\n",
        "    y_pred_r  = y_pred.round() #四捨五入。\n",
        "    score = lss.score(x_test, y_test)\n",
        "    return lss, y_pred,y_pred_r, score\n",
        "  \n",
        "  skf = StratifiedKFold(n_splits=3)\n",
        "  y = df.loc[:,\"class\"]\n",
        "  X = df.drop(columns=\"class\")\n",
        "  y = y.to_numpy()\n",
        "  X = X.to_numpy()\n",
        "\n",
        "  diclist = []\n",
        "  for alpha in [1, 0.1, 0.05, 0.01, 0.001,0.0001]:\n",
        "    for train_index, test_index in skf.split(X,y):\n",
        "      X_train, X_test = X[train_index], X[test_index]\n",
        "      y_train, y_test = y[train_index], y[test_index]\n",
        "      lss, y_pred,y_pred_r, score = dolasso(alpha,X_train, X_test,y_train, y_test) \n",
        "      n = lss.coef_\n",
        "      #print(\"係数が０でない変数の個数は {}\".format(np.sum(lss.coef_ != 0)))\n",
        "      l =[]\n",
        "      d = {}\n",
        "      d[\"alpha\"] = alpha\n",
        "      d[\"y_pred\"] = y_pred\n",
        "      d[\"y_pred_r\"] = y_pred_r\n",
        "      d[\"score\"] = score\n",
        "      d[\"y_test\"] = y_test  \n",
        "      d[\"lss.coef_not0\"] =  np.sum(lss.coef_ != 0)\n",
        "      #βが０で無いタンパクを列として追加する。\n",
        "      Xcols = df.drop(columns=\"class\").columns.values\n",
        "      for i, e in enumerate(lss.coef_):\n",
        "        if e != 0:\n",
        "          d[Xcols[i]] = e\n",
        "      diclist.append(d)    \n",
        "  return diclist"
      ],
      "metadata": {
        "id": "XMIfalNEOGYm"
      },
      "execution_count": null,
      "outputs": []
    },
    {
      "cell_type": "code",
      "source": [
        "dflist = []\n",
        "\n",
        "imputa = \"not used\"\n",
        "\n",
        "for i in range(4, 6):\n",
        "  atleast = i   \n",
        "  df = basedf(atleast,imputa)\n",
        "  df = logarithmic_transform(df)\n",
        "  d = doCross_and_Lasso(df)\n",
        "  resdf = pd.DataFrame(d)\n",
        "  resdf.loc[:, \"imputation\"] = imputa\n",
        "  resdf.loc[:, \"exclude_cutoff\"] = atleast\n",
        "  dflist.append(resdf) \n",
        "\n",
        "os.chdir('/content/')\n",
        "out = pd.concat([dflist[x] for x in range(0,len(dflist))])\n",
        "ya = out.loc[:, \"imputation\"] \n",
        "yb = out.loc[:, \"exclude_cutoff\"]\n",
        "out.drop([\"imputation\",\"exclude_cutoff\"], axis=1, inplace = True)\n",
        "out.insert(0,\"imputation\",ya)\n",
        "out.insert(0,\"exclude_cutoff\",yb)\n",
        "out.to_excel(\"CrossLassoImputaionMissing考慮解析結果.xlsx\")\n",
        "os.chdir('/content/drive/My Drive/Colab Notebooks/TRPV2Heart/')"
      ],
      "metadata": {
        "colab": {
          "base_uri": "https://localhost:8080/"
        },
        "id": "V9p4bFgVOGYn",
        "outputId": "6930289d-ac31-42b7-9a2e-28aa0e09bcb5"
      },
      "execution_count": null,
      "outputs": [
        {
          "output_type": "stream",
          "name": "stdout",
          "text": [
            "欠損数 4 個以上タンパク質は除外。除外タンパク質数は 30。\n",
            "欠損が 4 匹で見られたタンパク質の数は 19 です。\n",
            "欠損が 5 匹で見られたタンパク質の数は 11 です。\n"
          ]
        },
        {
          "output_type": "stream",
          "name": "stderr",
          "text": [
            "/usr/local/lib/python3.7/dist-packages/numpy/lib/nanfunctions.py:1111: RuntimeWarning: Mean of empty slice\n",
            "  return np.nanmean(a, axis, out=out, keepdims=keepdims)\n",
            "/usr/local/lib/python3.7/dist-packages/numpy/lib/nanfunctions.py:1114: RuntimeWarning: All-NaN slice encountered\n",
            "  overwrite_input=overwrite_input)\n",
            "/usr/local/lib/python3.7/dist-packages/sklearn/linear_model/_coordinate_descent.py:648: ConvergenceWarning: Objective did not converge. You might want to increase the number of iterations, check the scale of the features or consider increasing regularisation. Duality gap: 1.415e-04, tolerance: 1.000e-04\n",
            "  coef_, l1_reg, l2_reg, X, y, max_iter, tol, rng, random, positive\n"
          ]
        },
        {
          "output_type": "stream",
          "name": "stdout",
          "text": [
            "欠損数 5 個以上タンパク質は除外。除外タンパク質数は 11。\n",
            "欠損が 5 匹で見られたタンパク質の数は 11 です。\n"
          ]
        },
        {
          "output_type": "stream",
          "name": "stderr",
          "text": [
            "/usr/local/lib/python3.7/dist-packages/numpy/lib/nanfunctions.py:1111: RuntimeWarning: Mean of empty slice\n",
            "  return np.nanmean(a, axis, out=out, keepdims=keepdims)\n",
            "/usr/local/lib/python3.7/dist-packages/numpy/lib/nanfunctions.py:1114: RuntimeWarning: All-NaN slice encountered\n",
            "  overwrite_input=overwrite_input)\n",
            "/usr/local/lib/python3.7/dist-packages/sklearn/linear_model/_coordinate_descent.py:648: ConvergenceWarning: Objective did not converge. You might want to increase the number of iterations, check the scale of the features or consider increasing regularisation. Duality gap: 1.415e-04, tolerance: 1.000e-04\n",
            "  coef_, l1_reg, l2_reg, X, y, max_iter, tol, rng, random, positive\n"
          ]
        }
      ]
    },
    {
      "cell_type": "code",
      "source": [
        ""
      ],
      "metadata": {
        "id": "I-ddkBW-N2Ih"
      },
      "execution_count": null,
      "outputs": []
    }
  ]
}